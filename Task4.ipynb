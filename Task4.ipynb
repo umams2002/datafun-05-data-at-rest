{
 "cells": [
  {
   "attachments": {},
   "cell_type": "markdown",
   "metadata": {},
   "source": [
    "# Task 4"
   ]
  },
  {
   "cell_type": "code",
   "execution_count": null,
   "metadata": {},
   "outputs": [],
   "source": [
    "import sqlite3\n",
    "\n",
    "connection = sqlite3.connect(\"Data/books.db\")"
   ]
  },
  {
   "attachments": {},
   "cell_type": "markdown",
   "metadata": {},
   "source": [
    "Section 1: SELECT"
   ]
  },
  {
   "cell_type": "code",
   "execution_count": null,
   "metadata": {},
   "outputs": [],
   "source": [
    "import pandas as pd\n",
    "\n",
    "pd.read_sql(\"SELECT * from titles\",connection)"
   ]
  },
  {
   "attachments": {},
   "cell_type": "markdown",
   "metadata": {},
   "source": [
    "Section 2: WHERE"
   ]
  },
  {
   "cell_type": "code",
   "execution_count": null,
   "metadata": {},
   "outputs": [],
   "source": [
    "pd.read_sql(\"\"\"SELECT * FROM titles WHERE copyright > '2017'\"\"\",connection)"
   ]
  },
  {
   "cell_type": "code",
   "execution_count": null,
   "metadata": {},
   "outputs": [],
   "source": [
    "pd.read_sql(\"\"\"Select first,last from authors where last ='Deitel'\"\"\",connection)"
   ]
  },
  {
   "cell_type": "code",
   "execution_count": null,
   "metadata": {},
   "outputs": [],
   "source": [
    "pd.read_sql(\"\"\"SELECT id, first, last\n",
    "            FROM authors\n",
    "            where first LIKE '_a%'\"\"\", \n",
    "            connection, index_col=[\"id\"])"
   ]
  },
  {
   "attachments": {},
   "cell_type": "markdown",
   "metadata": {},
   "source": [
    "Section 3"
   ]
  },
  {
   "cell_type": "code",
   "execution_count": null,
   "metadata": {},
   "outputs": [],
   "source": [
    "pd.read_sql(\"SELECT title FROM titles ORDER BY title ASC\", connection)"
   ]
  },
  {
   "cell_type": "code",
   "execution_count": null,
   "metadata": {},
   "outputs": [],
   "source": [
    "pd.read_sql(\"\"\"SELECT id,first,last\n",
    "            FROM authors\n",
    "            ORDER BY last,first\"\"\",\n",
    "            connection, index_col=[\"id\"])"
   ]
  },
  {
   "cell_type": "code",
   "execution_count": null,
   "metadata": {},
   "outputs": [],
   "source": [
    "pd.read_sql(\"\"\"SELECT id,first,last\n",
    "            FROM authors\n",
    "            ORDER BY last DESC, first ASC\"\"\", \n",
    "            connection, index_col=[\"id\"])"
   ]
  },
  {
   "cell_type": "code",
   "execution_count": null,
   "metadata": {},
   "outputs": [],
   "source": [
    "pd.read_sql(\"\"\"SELECT isbn, title, edition, copyright\n",
    "            FROM titles\n",
    "            WHERE title LIKE '%How to Program'\n",
    "            ORDER BY title\"\"\", \n",
    "            connection)"
   ]
  },
  {
   "attachments": {},
   "cell_type": "markdown",
   "metadata": {},
   "source": [
    "Section 4: INNER JOIN"
   ]
  },
  {
   "cell_type": "code",
   "execution_count": null,
   "metadata": {},
   "outputs": [],
   "source": [
    "pd.read_sql(\"\"\"SELECT first, last,author_ISBN.isbn\n",
    "            FROM authors \n",
    "            INNER JOIN author_ISBN\n",
    "             ON authors.id = author_ISBN.id\n",
    "            INNER JOIN titles\n",
    "              ON titles.isbn = author_ISBN.isbn\n",
    "            ORDER BY last, first\"\"\", \n",
    "            connection).head()"
   ]
  },
  {
   "attachments": {},
   "cell_type": "markdown",
   "metadata": {},
   "source": [
    "Section 5: INSERT INTO."
   ]
  },
  {
   "cell_type": "code",
   "execution_count": null,
   "metadata": {},
   "outputs": [],
   "source": [
    "cursor =connection.cursor()\n",
    "\n",
    "cursor = cursor.execute(\"\"\"INSERT INTO authors (first, last) VALUES (\"Uma\", \"Subramanian\")\"\"\")\n",
    "cursor = cursor.execute(\"\"\"INSERT INTO titles(isbn,title,edition,copyright) VALUES (0134289369,'Osho Stories',2,2019)\"\"\")\n"
   ]
  },
  {
   "cell_type": "code",
   "execution_count": null,
   "metadata": {},
   "outputs": [],
   "source": [
    "pd.read_sql(\"SELECT * FROM titles\", \n",
    "            connection)"
   ]
  },
  {
   "cell_type": "code",
   "execution_count": null,
   "metadata": {},
   "outputs": [],
   "source": [
    "pd.read_sql(\"Select * from authors\", connection)"
   ]
  },
  {
   "attachments": {},
   "cell_type": "markdown",
   "metadata": {},
   "source": [
    "Section 6: UPDATE"
   ]
  },
  {
   "cell_type": "code",
   "execution_count": null,
   "metadata": {},
   "outputs": [],
   "source": [
    "cursor = cursor.execute(\"\"\"UPDATE authors SET last='Selvan'\n",
    "                        WHERE first='Uma'\"\"\")\n",
    "cursor = cursor.execute(\"\"\" update titles set copyright=2010 where isbn='134289369'\"\"\")"
   ]
  },
  {
   "cell_type": "code",
   "execution_count": null,
   "metadata": {},
   "outputs": [],
   "source": [
    "pd.read_sql(\"SELECT * FROM titles\", \n",
    "            connection)"
   ]
  },
  {
   "cell_type": "code",
   "execution_count": null,
   "metadata": {},
   "outputs": [],
   "source": [
    "pd.read_sql(\"Select * from authors\", connection)"
   ]
  },
  {
   "attachments": {},
   "cell_type": "markdown",
   "metadata": {},
   "source": [
    "Section 7: DELETE FROM"
   ]
  },
  {
   "cell_type": "code",
   "execution_count": null,
   "metadata": {},
   "outputs": [],
   "source": [
    "cursor = cursor.execute(\"DELETE FROM authors WHERE first ='Uma'\")\n",
    "cursor = cursor.execute(\"Delete from titles where title like 'Osho%'\")"
   ]
  },
  {
   "cell_type": "code",
   "execution_count": null,
   "metadata": {},
   "outputs": [],
   "source": [
    "pd.read_sql(\"Select * from authors\", connection)"
   ]
  },
  {
   "cell_type": "code",
   "execution_count": null,
   "metadata": {},
   "outputs": [],
   "source": [
    "pd.read_sql(\"SELECT * FROM titles\", \n",
    "            connection)"
   ]
  }
 ],
 "metadata": {
  "kernelspec": {
   "display_name": ".venv",
   "language": "python",
   "name": "python3"
  },
  "language_info": {
   "codemirror_mode": {
    "name": "ipython",
    "version": 3
   },
   "file_extension": ".py",
   "mimetype": "text/x-python",
   "name": "python",
   "nbconvert_exporter": "python",
   "pygments_lexer": "ipython3",
   "version": "3.11.5"
  },
  "orig_nbformat": 4
 },
 "nbformat": 4,
 "nbformat_minor": 2
}
